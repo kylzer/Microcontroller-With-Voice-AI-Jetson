{
 "cells": [
  {
   "cell_type": "code",
   "execution_count": 14,
   "id": "09750fca-d152-4b1d-9d19-8c22e270c583",
   "metadata": {},
   "outputs": [],
   "source": [
    "import onnxsim\n",
    "import onnx"
   ]
  },
  {
   "cell_type": "code",
   "execution_count": null,
   "id": "40b06e85-a0ad-4537-882c-1e82e50e7074",
   "metadata": {},
   "outputs": [],
   "source": [
    "# SavedModel to ONNX\n",
    "!python -m tf2onnx.convert --saved-model 'Classification' --output 'Classification.onnx'"
   ]
  },
  {
   "cell_type": "code",
   "execution_count": 18,
   "id": "6ae6715f-f7fe-4484-b299-926243ca0ddf",
   "metadata": {},
   "outputs": [],
   "source": [
    "# Simplyfied\n",
    "simplified_onnx_model, success = onnxsim.simplify('Classification.onnx')\n",
    "simplified_onnx_model_path =  'Classification.simplified.onnx'\n",
    "onnx.save(simplified_onnx_model, simplified_onnx_model_path)"
   ]
  }
 ],
 "metadata": {
  "kernelspec": {
   "display_name": "Python 3 (ipykernel)",
   "language": "python",
   "name": "python3"
  },
  "language_info": {
   "codemirror_mode": {
    "name": "ipython",
    "version": 3
   },
   "file_extension": ".py",
   "mimetype": "text/x-python",
   "name": "python",
   "nbconvert_exporter": "python",
   "pygments_lexer": "ipython3",
   "version": "3.10.8"
  },
  "widgets": {
   "application/vnd.jupyter.widget-state+json": {
    "state": {},
    "version_major": 2,
    "version_minor": 0
   }
  }
 },
 "nbformat": 4,
 "nbformat_minor": 5
}
